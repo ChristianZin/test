{
 "cells": [
  {
   "cell_type": "markdown",
   "metadata": {},
   "source": [
    "<!--NAVIGATION-->\n",
    "< [Derivation Valuation and Its Application with Python](Derivation-Valuation-and-Its-Application-with-Python.ipynb) | [Contents](Index.ipynb) | "
   ]
  },
  {
   "cell_type": "markdown",
   "metadata": {},
   "source": [
    "# 1. Derivation Valuation and Its Application with Python\n",
    "## Abdullah Karasan"
   ]
  },
  {
   "cell_type": "markdown",
   "metadata": {},
   "source": [
    "As the number of financial operations increases, so does the financial complexity. At first glance, it may sound good but increased financial transactions and complexity come with a cost. There are several tools to reduce this cost to a certain level. In finance literature, the effort of minimizing the cost is called `hedging`. Derivatives are primarily created as a tool for hedging. This is understandable as financial transactions are subject to various types of risk such as exchange rate risk, interest rate risk, political risk, and so on. Consequently, investors should find a way to hedge their investments, and derivatives serve this purpose."
   ]
  },
  {
   "cell_type": "markdown",
   "metadata": {},
   "source": [
    "For instance, exporters face a tremendous foreign exchange risk as they produce in their local currency but they are paid in foreign currency. The exchange rates between these currencies are subject to constant change and an investor should hedge herself against any drop in foreign currency."
   ]
  },
  {
   "cell_type": "markdown",
   "metadata": {},
   "source": [
    "However, hedging is not the only motivation for creating derivatives. Here are some other reasons why an investor might use derivative products:"
   ]
  },
  {
   "cell_type": "markdown",
   "metadata": {},
   "source": [
    "* Price Discovery\n",
    "* Circumventing Regulations\n",
    "* Minimizing Trade Costs"
   ]
  },
  {
   "cell_type": "markdown",
   "metadata": {},
   "source": [
    "The main derivative products are `Futures`, `Options`, `Forwards`, `Commodities`, and `Swaps`. In this lesson, we will talk about European and American Options. But before doing that why don't we talk about options?\n",
    "    "
   ]
  },
  {
   "cell_type": "markdown",
   "metadata": {},
   "source": [
    "Let's get started!!!"
   ]
  },
  {
   "cell_type": "markdown",
   "metadata": {},
   "source": [
    "# 2. Option"
   ]
  },
  {
   "cell_type": "markdown",
   "metadata": {},
   "source": [
    "An `option` is the right to buy or sell a risky asset at a prespecified fixed price within a specified period. Please pay attention that it is a right, not an obligation. It is a financial instrument that allows us to make a guess about the price of the underlying asset. If we think that the price will go down, we want to have a `put option` and if we guess that the price of the underlying asset will go up, then `call option` is a good call."
   ]
  },
  {
   "cell_type": "markdown",
   "metadata": {},
   "source": [
    "A call option contract gives the holder the right to buy a stock in a specified time. For instance, assume that we invest in Dell stock at 75 USD and it expires in one month. As options and stock price go hand in hand, if we think that the stock price of Dell will go up in this one month period, we hold the contract until the maturity and then exercise it. Note that there is more than one expiration date and a `strike price`, which is the price we pay while exercising the option."
   ]
  },
  {
   "cell_type": "markdown",
   "metadata": {},
   "source": [
    "In summary, there are four actions we can take on options:\n",
    "* Sell the option at its current market price\n",
    "* Do nothing\n",
    "* Exercise the option \n",
    "* Let the option expire (worthless)"
   ]
  },
  {
   "cell_type": "markdown",
   "metadata": {},
   "source": [
    "A value of an option can be defined by two concepts:\n",
    "* Intrinsic value\n",
    "* Time value"
   ]
  },
  {
   "cell_type": "markdown",
   "metadata": {},
   "source": [
    "The `intrinsic value` is a portion of the value of the option occured by the price movements of an underlying asset. The intrinsic value of an option can take a value between zero and positive infinity. On the other hand, the `time value` of an option arises from the probability that the option will be profitable during the contract period. The time value is at its highest on the date when the option was written. As time passes and the time to maturity of the option decreases, the time value of the option decreases. The option's time value will consist only of its intrinsic value as the time value goes down to zero."
   ]
  },
  {
   "cell_type": "markdown",
   "metadata": {},
   "source": [
    "The value of an option is denoted by V, and V is a function of time (i.e., it varies depending on time). By convention, the exercise price and the asset price are shown as K and S, respectively. As K is determined by the time of contract, V is a function of S and t or:"
   ]
  },
  {
   "cell_type": "markdown",
   "metadata": {},
   "source": [
    "$$V=f(S,t)$$"
   ]
  },
  {
   "cell_type": "markdown",
   "metadata": {},
   "source": [
    "In summary, the total value of an option equals the intrinsic value of the option plus the time value of the option."
   ]
  },
  {
   "cell_type": "markdown",
   "metadata": {},
   "source": [
    "The following graph shows the intrinsic value of a call option. As you can see, the value of an option becomes greater than zero once the price of an asset exceeds the strike (or exercise) price. Remember, we make an educated guess before buying a call option contract, which is that the price of an underlying asset will go up, but if we are wrong in our guess and the price of the underlying asset goes down, then the option becomes worthless."
   ]
  },
  {
   "cell_type": "markdown",
   "metadata": {},
   "source": [
    "<img src=\"assets/call_option.png\" alt=\"Call Option Illustration\" style=\"width:150;height:300px;\">"
   ]
  },
  {
   "cell_type": "markdown",
   "metadata": {},
   "source": [
    "**Source:** Seydel and Seydel (2006)"
   ]
  },
  {
   "cell_type": "markdown",
   "metadata": {},
   "source": [
    "We can think of a put option as the other side of the same coin. Now, we expect that the price of an underlying asset decreases and we take advantage of it. Otherwise, again the option becomes worthless. In the below graph, we see that the value of an option is positive all the way down to strike price. "
   ]
  },
  {
   "cell_type": "markdown",
   "metadata": {},
   "source": [
    "<img src=\"assets/put_option.png\" alt=\"Put Option Illustration\" style=\"width:150;height:300px;\">"
   ]
  },
  {
   "cell_type": "markdown",
   "metadata": {},
   "source": [
    "**Source:** Seydel and Seydel (2006)"
   ]
  },
  {
   "cell_type": "markdown",
   "metadata": {},
   "source": [
    "Value of a call option:"
   ]
  },
  {
   "cell_type": "markdown",
   "metadata": {},
   "source": [
    "$$V=\\text{max}(S_T-K,0)$$"
   ]
  },
  {
   "cell_type": "markdown",
   "metadata": {},
   "source": [
    "Value of a put option:"
   ]
  },
  {
   "cell_type": "markdown",
   "metadata": {},
   "source": [
    "$$V=\\text{max}(K-S_T,0)$$"
   ]
  },
  {
   "cell_type": "markdown",
   "metadata": {},
   "source": [
    "These functions are referred to as `payoff functions`."
   ]
  },
  {
   "cell_type": "markdown",
   "metadata": {},
   "source": [
    "So, in call option, we earn profit  \n",
    "* If $S_T>K$. \n",
    "\n",
    "Whereas, in the put option, we earn profit \n",
    "* If $K>S_T$"
   ]
  },
  {
   "cell_type": "markdown",
   "metadata": {},
   "source": [
    "Depending on how the options are exercised, they can be divided into two categories:\n",
    "\n",
    "* Vanilla Options\n",
    "    * European Options\n",
    "    * American Options\n",
    "* Exotic Options\n",
    "    * Barrier Options\n",
    "    * Look Back Options\n",
    "    * Rainbow Options\n",
    "    * Bermudian Options\n",
    "    * Knock Out Options"
   ]
  },
  {
   "cell_type": "markdown",
   "metadata": {},
   "source": [
    "This is far from an all-inclusive list of options. In this lesson, we will learn the theoretical background of `European` and `American` options and their valuation in Python."
   ]
  },
  {
   "cell_type": "markdown",
   "metadata": {},
   "source": [
    "# 3. Valuation of a European Option"
   ]
  },
  {
   "cell_type": "markdown",
   "metadata": {},
   "source": [
    "There are two main types of vanilla options in the option market: **European** and **American**.\n",
    "* In European options, the contract holder can exercise their option right only at the maturity.\n",
    "* In American options, the contract holder can exercise their option right anytime between the date of the contract and maturity of the option."
   ]
  },
  {
   "cell_type": "markdown",
   "metadata": {},
   "source": [
    "As for the European option, we have a closed-form solution, which makes our life easier. This solution has been proposed by two celebrated academics: Black and Scholes and the method is known as the `Black-Scholes` equation."
   ]
  },
  {
   "cell_type": "markdown",
   "metadata": {},
   "source": [
    "The `Black-Scholes` equation is a widely recognized method for option valuation. Black and Scholes developed a closed form solution for European option. The assumptions behind this formula are as follows:\n",
    "\n",
    "* The short-term discount rate is known and stable\n",
    "* Stock prices follow the Geometric Brownian movement\n",
    "* No dividend payment\n",
    "* No transaction cost\n",
    "* Investors can borrow and borrow cash at a short-term interest rate\n",
    "* There is no restriction for short sellin."
   ]
  },
  {
   "cell_type": "markdown",
   "metadata": {},
   "source": [
    "Without going into too much detail, Black-Scholes equation is a partial derivative (for more information please see [Wikipedia](https://en.wikipedia.org/wiki/Black–Scholes_model#Black–Scholes_formula) or for more technical information please see the book _Risk management and Financial Institutions_ by Hull [John Wiley & Sons 2012]) and once it is solved, it takes the following form for a European call option:"
   ]
  },
  {
   "cell_type": "markdown",
   "metadata": {},
   "source": [
    "$$C(S,T)=S_0\\mathcal{N}(d_1)-Ke^{-r(T)}\\mathcal{N}(d_2) $$"
   ]
  },
  {
   "cell_type": "markdown",
   "metadata": {},
   "source": [
    "where\n",
    "* C: European call option price\n",
    "* $S_0$: Underlying asset price at time 0\n",
    "* $\\mathcal{N}$: Normal distribution\n",
    "* K: Strike price\n",
    "* r: Risk-free rate\n",
    "* T: Maturity "
   ]
  },
  {
   "cell_type": "markdown",
   "metadata": {},
   "source": [
    "and where:"
   ]
  },
  {
   "cell_type": "markdown",
   "metadata": {},
   "source": [
    "$$d_1=\\frac{\\ln(\\frac{S_0}{K})+(r+\\sigma^{2}/2)(T)}{\\sigma\\sqrt{T}}$$"
   ]
  },
  {
   "cell_type": "markdown",
   "metadata": {},
   "source": [
    "$$d_2=d_1-\\sigma\\sqrt{T}$$\n",
    "\n"
   ]
  },
  {
   "cell_type": "markdown",
   "metadata": {},
   "source": [
    "Eventually, $\\mathcal{N}$, which is the cumulative distribution function of the standard normal distribution, is given by:"
   ]
  },
  {
   "cell_type": "markdown",
   "metadata": {},
   "source": [
    "$$\\mathcal{N}(x)=\\frac{1}{\\sqrt{2\\pi}}\\int^x_{-\\infty}e^{-t^2}dt$$"
   ]
  },
  {
   "cell_type": "markdown",
   "metadata": {},
   "source": [
    "Solving the Black-Scholes equation for European put option yields:"
   ]
  },
  {
   "cell_type": "markdown",
   "metadata": {},
   "source": [
    "$$P(S,T)=Ke^{-r(T)}\\mathcal{N}(-d_2)-S_0\\mathcal{N}(-d_1)$$"
   ]
  },
  {
   "cell_type": "markdown",
   "metadata": {},
   "source": [
    "where:\n",
    "* P: European Put option price"
   ]
  },
  {
   "cell_type": "markdown",
   "metadata": {},
   "source": [
    "and where:"
   ]
  },
  {
   "cell_type": "markdown",
   "metadata": {},
   "source": [
    "$$d_1=\\frac{\\ln(\\frac{S_0}{K})+(r+\\sigma^{2}/2)(T)}{\\sigma\\sqrt{T}}$$\n"
   ]
  },
  {
   "cell_type": "markdown",
   "metadata": {},
   "source": [
    "$$d_2=d_1-\\sigma\\sqrt{T}$$"
   ]
  },
  {
   "cell_type": "code",
   "execution_count": null,
   "metadata": {},
   "outputs": [],
   "source": [
    "import numpy as np\n",
    "import scipy.stats as si\n",
    "import matplotlib.pyplot as plt\n",
    "import seaborn as sns"
   ]
  },
  {
   "cell_type": "code",
   "execution_count": null,
   "metadata": {},
   "outputs": [],
   "source": [
    "def pricing_EU_call(S, K, T,R, V):\n",
    "    \"\"\"\n",
    "    S = stockPrice\n",
    "    K = StrikePrice\n",
    "    T = Maturity\n",
    "    R = Riskfree\n",
    "    V = Volatility\n",
    "    \"\"\"\n",
    "    sqrtT = np.sqrt(T)\n",
    "    d1 = (np.log(S / K) + (R + 0.5 * V **2) * T) / (V * sqrtT)\n",
    "    d2 = d1 - V * sqrtT\n",
    "\n",
    "    expRT = np.exp(- R * T)\n",
    "\n",
    "    callResult =(S * si.norm.cdf(d1, 0.0, 1.0) - K *expRT * si.norm.cdf(d2, 0.0, 1.0))\n",
    "    return callResult"
   ]
  },
  {
   "cell_type": "code",
   "execution_count": null,
   "metadata": {},
   "outputs": [],
   "source": [
    "price_list=np.linspace(50,100,6)\n",
    "C=[]\n",
    "for i in price_list:\n",
    "    C.append(pricing_EU_call(i, 100, 1,0.05, 0.3))\n",
    "print(\"The Prices of the EU Call are: \\n{}\".format(C))"
   ]
  },
  {
   "cell_type": "markdown",
   "metadata": {},
   "source": [
    "Thus, in the call option, the closer the underlying asset price to strike price, the higher the value of option. In this example, we start with an underlying stock price of 50 and end with 100 and the corresponding option values are around 0.11 and 14.23, respectively."
   ]
  },
  {
   "cell_type": "markdown",
   "metadata": {},
   "source": [
    "The following histogram shows the frequency of the option prices. It turns out that most of the frequent values are gathered around 0 and 2."
   ]
  },
  {
   "cell_type": "code",
   "execution_count": null,
   "metadata": {},
   "outputs": [],
   "source": [
    "sns.set()\n",
    "plt.figure(figsize=(10,6))\n",
    "price_list=np.linspace(50,100,100)\n",
    "for i in price_list:\n",
    "    C.append(pricing_EU_call(i, 100, 1,0.05, 0.3))\n",
    "plt.hist(C, density=True)\n",
    "plt.xlabel('EU Call Option Price')\n",
    "plt.ylabel('Frequency')\n",
    "plt.show()"
   ]
  },
  {
   "cell_type": "code",
   "execution_count": null,
   "metadata": {},
   "outputs": [],
   "source": [
    "def pricing_EU_put(S, K, T,R, V):\n",
    "    \"\"\"\n",
    "    S = stockPrice\n",
    "    K = StrikePrice\n",
    "    T = Maturity\n",
    "    R = Riskfree\n",
    "    V = Volatility\n",
    "    \"\"\"\n",
    "    sqrtT = np.sqrt(T)\n",
    "    d1 = (np.log(S / K) + (R + 0.5 * V **2) * T) / (V * sqrtT)\n",
    "    d2 = d1 - V * sqrtT\n",
    "\n",
    "    expRT = np.exp(- R * T)\n",
    "    \n",
    "    putResult = (K * expRT * si.norm.cdf(-d2, 0.0, 1.0) - S * si.norm.cdf(-d1, 0.0, 1.0))\n",
    "    return putResult"
   ]
  },
  {
   "cell_type": "code",
   "execution_count": null,
   "metadata": {},
   "outputs": [],
   "source": [
    "price_list=np.linspace(50,100,6)\n",
    "P=[]\n",
    "for i in price_list:\n",
    "    P.append(pricing_EU_put(i, 100, 1,0.05, 0.3))\n",
    "print(\"The Prices of the EU Put are: \\n{}\".format(P))"
   ]
  },
  {
   "cell_type": "markdown",
   "metadata": {},
   "source": [
    "Conversely, in a put option, having a lower underlying asset price increases the option value in the sense that investors tend to think that that underlying asset price will drop."
   ]
  },
  {
   "cell_type": "code",
   "execution_count": null,
   "metadata": {},
   "outputs": [],
   "source": [
    "sns.set()\n",
    "plt.figure(figsize=(10,6))\n",
    "price_list=np.linspace(50,100,100)\n",
    "for i in price_list:\n",
    "    P.append(pricing_EU_put(i, 100, 1,0.05, 0.3))\n",
    "plt.hist(P, density=True)\n",
    "plt.xlabel('EU Put Option Price')\n",
    "plt.ylabel('Frequency')\n",
    "plt.show()"
   ]
  },
  {
   "cell_type": "markdown",
   "metadata": {},
   "source": [
    "Thus far, we haved learned how to value a European option. Now it is time to discuss the valuation of an American option, which is more complicated."
   ]
  },
  {
   "cell_type": "markdown",
   "metadata": {},
   "source": [
    "# 4. Valuation of an American Option"
   ]
  },
  {
   "cell_type": "markdown",
   "metadata": {},
   "source": [
    "The `Binomial option pricing` model developed by Cox, Ross, and Rubinstein (1979) is a simple numerical method to value an option. This model allows us to exercise the option before maturity, and this makes it a suitable model for valuing the American options. We can list the assumptions of this model as follows:\n",
    "* Stock prices follow the multiplicative binomial process at discrete time.\n",
    "* The discount rate is fixed.\n",
    "* There is no transaction cost and short selling restrictions are not available."
   ]
  },
  {
   "cell_type": "markdown",
   "metadata": {},
   "source": [
    "The binomial trees model is based on the principle that underlying asset prices may change in two directions (going up or down) in a certain period of time. If the underlying asset price goes up, the initial underlying asset price is multiplied by u ($S_0$u). If the underlying asset price goes down, the initial underlying asset price is multiplied by d ($S_0$d)."
   ]
  },
  {
   "cell_type": "markdown",
   "metadata": {},
   "source": [
    "Considering a stock with a current price of $S_0$ and an option created on this stock with a current price of f, the option value is considered to be fu when the stock price rises to $S_0$u, and the option value is fd when it drops to $S_0$d."
   ]
  },
  {
   "cell_type": "markdown",
   "metadata": {},
   "source": [
    "In the below graph, we can observe how the valuation evolves step by step: "
   ]
  },
  {
   "cell_type": "markdown",
   "metadata": {},
   "source": [
    "<img src=\"assets/binomial.png\" alt=\"Binomial Pricing Illustration\" style=\"width:150;height:300px;\">"
   ]
  },
  {
   "cell_type": "markdown",
   "metadata": {},
   "source": [
    "Let $\\Delta$ be a number of stocks that we have right to buy. The aim is to calculate $\\Delta$, which makes the portfolio risk-free. If there is an upward trend in the underlying stock price, the value of the portfolio at the end of the option's lifetime will be:"
   ]
  },
  {
   "cell_type": "markdown",
   "metadata": {},
   "source": [
    "$$S_0u\\Delta - fu \\text{ (eq.1)}$$ "
   ]
  },
  {
   "cell_type": "markdown",
   "metadata": {},
   "source": [
    "Conversely, if there is a downward trend in the underlying stock price, the value of the portfolio at the end of the option's lifetime will be:"
   ]
  },
  {
   "cell_type": "markdown",
   "metadata": {},
   "source": [
    "$$S_0d\\Delta - fd \\text{ (eq.2)}$$ "
   ]
  },
  {
   "cell_type": "markdown",
   "metadata": {},
   "source": [
    "Based on the $\\Delta$ value, `eq.1` and `eq.2` are equal to each other:"
   ]
  },
  {
   "cell_type": "markdown",
   "metadata": {},
   "source": [
    "$$S_0u\\Delta – fu= S_0d\\Delta – fd$$"
   ]
  },
  {
   "cell_type": "markdown",
   "metadata": {},
   "source": [
    "So:\n",
    "$$\\Delta=\\frac{fu-fd}{S_0u-S_0d} \\text{ (eq.3)}$$"
   ]
  },
  {
   "cell_type": "markdown",
   "metadata": {},
   "source": [
    "In this setting, the portfolio is risk-free and, therefore, it has a return that is at least as much as the risk-free rate. Otherwise, the investor stays away from this portfolio and invests in safe havens such as T-Bills and goverment bonds."
   ]
  },
  {
   "cell_type": "markdown",
   "metadata": {},
   "source": [
    "Now we have an idea of the value of the option at maturity, but what about the present value of it we should know to derive the necessary parameters? To calculate the present value of the portfolio, we discount it with risk-free interest rate:"
   ]
  },
  {
   "cell_type": "markdown",
   "metadata": {},
   "source": [
    "$$(S_u\\Delta−fu)e^{−r_fT}$$"
   ]
  },
  {
   "cell_type": "markdown",
   "metadata": {},
   "source": [
    "We bear a cost to form a portfolio, which is:"
   ]
  },
  {
   "cell_type": "markdown",
   "metadata": {},
   "source": [
    "$$S_0\\Delta-f$$"
   ]
  },
  {
   "cell_type": "markdown",
   "metadata": {},
   "source": [
    "Once we make the cost of the portfolio and present value of the portfolio equal, the value of $\\Delta$ comes out to:"
   ]
  },
  {
   "cell_type": "markdown",
   "metadata": {},
   "source": [
    "$$S_0\\Delta−f=(S_0u\\Delta− fu)e^{−r_fT} \\text{ (eq.4)}$$"
   ]
  },
  {
   "cell_type": "markdown",
   "metadata": {},
   "source": [
    "In `eq.3`, we have defined $\\Delta$, once we substutite it with `eq.4` and do the necessary math:"
   ]
  },
  {
   "cell_type": "markdown",
   "metadata": {},
   "source": [
    "$$f =e^{−rfT}[pf_u +(1−p)f_d] \\text{ (eq.5)}$$"
   ]
  },
  {
   "cell_type": "markdown",
   "metadata": {},
   "source": [
    "`Eq.5`\n",
    " enables us to calculate one step binomial option pricing."
   ]
  },
  {
   "cell_type": "markdown",
   "metadata": {},
   "source": [
    "Where:\n",
    "$$p=\\frac{e^{r_fT}-d}{u-d}\\\\$$\n",
    "$$u = e^{\\sigma\\sqrt{\\Delta t}}$$\n",
    "$$d = e^{-\\sigma\\sqrt{\\Delta t}}$$"
   ]
  },
  {
   "cell_type": "markdown",
   "metadata": {},
   "source": [
    "Enough math! Let's do something more fun and value an American option using the Binomial pricing method:"
   ]
  },
  {
   "cell_type": "code",
   "execution_count": null,
   "metadata": {},
   "outputs": [],
   "source": [
    "def Binomial_American_Call(S0, K, r, t, v, n):\n",
    "    dt = t/n\n",
    "    u = np.exp(v*np.sqrt(dt))\n",
    "    d=1/u\n",
    "    p = (np.exp(r*dt)-d) / (u-d) \n",
    "    \n",
    "    lattice =np.zeros((n+1,n+1))\n",
    "    lattice[0,0] = S0\n",
    "    for i in range(1,n+1):\n",
    "        lattice[i,0] = lattice[i-1,0]*u\n",
    "        for j in range(1,i+1):\n",
    "            lattice[i,j] = lattice[i-1,j-1]*d\n",
    "    \n",
    "\n",
    "    payoff = np.zeros((n+1,n+1))\n",
    "    for j in range(n+1):\n",
    "        payoff[n,j] = max(0, lattice[n,j]-K)\n",
    "    \n",
    "    for i in range(n-1,-1,-1):\n",
    "        for j in range(i+1):\n",
    "            payoff[i,j] = max(0, lattice[i,j]-K, np.exp(-r*dt)*(p*payoff[i+1,j]+(1-p)*payoff[i+1,j+1]))\n",
    "   \n",
    "    return payoff[0,0]\n",
    "\n",
    "\n"
   ]
  },
  {
   "cell_type": "code",
   "execution_count": null,
   "metadata": {},
   "outputs": [],
   "source": [
    "n = 10 #number of steps\n",
    "S0 = 50 #initial underlying asset price\n",
    "r = 0.06 #risk-free interest rate\n",
    "K = 100 #strike price\n",
    "v = 0.4 #volatility\n",
    "t = 1 # maturity"
   ]
  },
  {
   "cell_type": "code",
   "execution_count": null,
   "metadata": {},
   "outputs": [],
   "source": [
    "Binomial_American_Call(S0, K, r, t, v, n)"
   ]
  },
  {
   "cell_type": "code",
   "execution_count": null,
   "metadata": {},
   "outputs": [],
   "source": [
    "C =[]\n",
    "for i in range(200):\n",
    "    C.append(Binomial_American_Call(i, K, r, t, v, n))"
   ]
  },
  {
   "cell_type": "markdown",
   "metadata": {},
   "source": [
    "You can see that as the stock price exceeds 50 USD, the option value becomes positive. Beyond this price, the American option price increases linearly."
   ]
  },
  {
   "cell_type": "code",
   "execution_count": null,
   "metadata": {
    "scrolled": true
   },
   "outputs": [],
   "source": [
    "sns.set()\n",
    "plt.figure(figsize=(10,6))\n",
    "plt.plot(range(2*K), C)\n",
    "plt.xlabel('Underlying asset price')\n",
    "plt.ylabel('Profits')\n",
    "plt.axvline(x=K, linestyle='--', color='black')\n",
    "plt.axhline(y=0, linestyle=':', color='black')\n",
    "plt.title('American Call Option')\n",
    "plt.show()"
   ]
  },
  {
   "cell_type": "code",
   "execution_count": null,
   "metadata": {},
   "outputs": [],
   "source": [
    "def Binomial_American_Put(S0, K, r, t, v, n):\n",
    "    dt = t/n\n",
    "    u = np.exp(v*np.sqrt(dt))\n",
    "    d=1/u\n",
    "    p = (np.exp(r*dt)-d) / (u-d) \n",
    "    \n",
    "    lattice =np.zeros((n+1,n+1))\n",
    "    lattice[0,0] = S0\n",
    "    for i in range(1,n+1):\n",
    "        lattice[i,0] = lattice[i-1,0]*u\n",
    "        for j in range(1,i+1):\n",
    "            lattice[i,j] = lattice[i-1,j-1]*d\n",
    "    \n",
    "\n",
    "    payoff = np.zeros((n+1,n+1))\n",
    "    for j in range(n+1):\n",
    "        payoff[n,j] = max(0, K-lattice[n,j])\n",
    "    \n",
    "    for i in range(n-1,-1,-1):\n",
    "        for j in range(i+1):\n",
    "            payoff[i,j] = max(0, K-lattice[i,j], np.exp(-r*dt)*(p*payoff[i+1,j]+(1-p)*payoff[i+1,j+1]))\n",
    "   \n",
    "    return payoff[0,0]\n",
    "\n"
   ]
  },
  {
   "cell_type": "code",
   "execution_count": null,
   "metadata": {},
   "outputs": [],
   "source": [
    "Binomial_American_Put(S0, K, r, t, v, n)"
   ]
  },
  {
   "cell_type": "code",
   "execution_count": null,
   "metadata": {},
   "outputs": [],
   "source": [
    "P=[]\n",
    "for i in range(200):\n",
    "    P.append(Binomial_American_Put(i, K, r, t, v, n))"
   ]
  },
  {
   "cell_type": "markdown",
   "metadata": {},
   "source": [
    "Contrary to the American call option, the option becomes profitable as the stock price decreases but the profitability goes away as the stock price increases."
   ]
  },
  {
   "cell_type": "code",
   "execution_count": null,
   "metadata": {},
   "outputs": [],
   "source": [
    "sns.set()\n",
    "plt.figure(figsize=(10,6))\n",
    "plt.plot(range(2*K),P)\n",
    "plt.xlabel('Underlying asset price')\n",
    "plt.ylabel('Profits')\n",
    "plt.axvline(x=K, linestyle='--', color='black')\n",
    "plt.axhline(y=0, linestyle=':', color='black')\n",
    "plt.title('American Put Option')\n",
    "plt.show()"
   ]
  },
  {
   "cell_type": "markdown",
   "metadata": {},
   "source": [
    "# 5. Conclusion"
   ]
  },
  {
   "cell_type": "markdown",
   "metadata": {},
   "source": [
    "We have discussed the essentials of derivative valuation and their applications in Python. As you may notice, there is a big difference in valuing a European option compared to an American option. The former option can be exercised only at maturity but the latter can be exercised at any time up to maturity. Therefore, we have a closed form solution for European options called the `Black-Scholes equation` and we adopt the binomial option pricing method for American options."
   ]
  },
  {
   "cell_type": "markdown",
   "metadata": {},
   "source": [
    "**References**"
   ]
  },
  {
   "cell_type": "markdown",
   "metadata": {},
   "source": [
    "* Cox, J. C., Ross, S. A., & Rubinstein, M. (1979). &#x201c;Option pricing: A simplified approach.&#x201d; _Journal of financial Economics_, 7(3), 229-263."
   ]
  },
  {
   "cell_type": "markdown",
   "metadata": {},
   "source": [
    "* Hull, J. (2012). _Risk management and Financial Institutions_,+ Web Site (Vol. 733). John Wiley & Sons."
   ]
  },
  {
   "cell_type": "markdown",
   "metadata": {},
   "source": [
    "* Seydel, R., & Seydel, R. (2006). _Tools for Computational Finance_ (Vol. 3). Berlin: Springer."
   ]
  }
 ],
 "metadata": {
  "kernelspec": {
   "display_name": "Python 3",
   "language": "python",
   "name": "python3"
  },
  "language_info": {
   "codemirror_mode": {
    "name": "ipython",
    "version": 3
   },
   "file_extension": ".py",
   "mimetype": "text/x-python",
   "name": "python",
   "nbconvert_exporter": "python",
   "pygments_lexer": "ipython3",
   "version": "3.7.3"
  }
 },
 "nbformat": 4,
 "nbformat_minor": 4
}
